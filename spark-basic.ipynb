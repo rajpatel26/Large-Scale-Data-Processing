{
 "cells": [
  {
   "cell_type": "markdown",
   "metadata": {},
   "source": [
    "**Goals**: In this assignment you will be practising basic tools and creating \n",
    "building blocks that will be useful in your final projects. The assignment requires\n",
    "you to solve two realistic data processing problems on the Spark platform."
   ]
  },
  {
   "cell_type": "markdown",
   "metadata": {},
   "source": [
    "## 1: Regular Expressions\n",
    "Write a regular expression pattern matching a _valid Email address_. For the purposes of this exercise, a valid Email address is any string of the form `local@domain` where \n",
    "    \n",
    "* `local` is any combination of alphanumeric (i.e., both letters and numbers) charcters in \n",
    "    either lower or upper case, dots (`.`) and the following characters \n",
    "    ``!#$%&'*+-/=?^_`{|}~``, and\n",
    "    \n",
    "* `domain` is a sequence of labels separated by a single `.` (dot) character where each label \n",
    "    is a combination of alphanumeric (i.e., both letters and numbers) characters in either lower \n",
    "    or upper case, and the rightmost label representing the top-level domain is not all numbers.\n",
    "\n",
    "For example,  all of the following strings are valid EMails: joe<span>@example.com, \n",
    "joe.doe<span>@bigdata.cs.rhul.ac.uk, joe..doe123$<span>@stratospheric, \n",
    "j0e.==.D_OE<span>@123dotcom.net, and the strings \n",
    "joe<span>@doe.xxx<span>@example.com, joe<span>@.example.com, joe.doe<span>@example.123, \n",
    "and joe.doe<span>@example.123..com are all invalid.\n",
    "\n",
    "In addition, write the following lambda expression:\n",
    "* `valid_email`: takes a string `s` as argument and returns `True` if `s` \n",
    "matches `email_regex`, and `False`, otherwise"
   ]
  },
  {
   "cell_type": "code",
   "execution_count": 16,
   "metadata": {},
   "outputs": [],
   "source": [
    "import re\n",
    "\n",
    "# Put your pattern inside ''\n",
    "email_regex = '(?:[a-zA-Z0-9.!#$%&\\'*+-/=?^_`{|}~]+)@((?:[a-zA-Z0-9]+\\.?)*(\\d*[a-zA-Z]{1,}\\d*))+'\n",
    "\n",
    "# Replace the right-hand side of the lambda with your code\n",
    "valid_email = lambda s: True if re.compile(email_regex).fullmatch(s) else False"
   ]
  },
  {
   "cell_type": "markdown",
   "metadata": {},
   "source": [
    "Your solution for `email_regex` is correct if the value returned by `re.compile(email_regex).fullmatch(s)` is not\n",
    "`None` for every string `s`, which is a valid Email address according to \n",
    "the definition above, and `None`, otherwise."
   ]
  },
  {
   "cell_type": "markdown",
   "metadata": {},
   "source": [
    "## 2: Spark\n",
    "Write a function `proc_headers(lst)` that takes a list `lst` of Email headers, and returns a list of tuples `(E1, E2)` for _every_ Email transmission from `E1` to `E2`. Each header in `lst` is described by a tuple `(FROM, TO, CC, BCC)` where `FROM` is the Email address of the sender, and each of the `TO`, `CC`, and `BCC` is a string holding a list of comma-separated EMail addresses matching the `csv_regex` pattern from Assignment 1 Question 2 (A1-Q2).<p>\n",
    "Your code should be written as a series of the following Spark transformations:\n",
    "1. Use `sc.parallelize()` to create a base RDD from `lst`.\n",
    "2. Apply a `filter()` transformation to the base RDD created in step 1 to exclude all tuples where `FROM` is not a valid Email address. Use the `valid_email` lambda from Q1 above.\n",
    "3. Apply a `map()` transformation to the RDD produced at step 2 to convert each `(FROM, TO, CC, BCC)` tuple to  a `(FROM, RECPIENTS)` tuple where `RECIPIENTS` is a concatenation of `TO`, `CC`, and `BCC` obtained by a lambda which is a composition of two `concat_csv_strings` lambdas from A1-Q4.2.\n",
    "4. Apply a `map()` transformation to the RDD produced at step 3 to convert each `(FROM, RECPIENTS)` tuple to a `(FROM, EMAIL_SEQ)` tuple where `EMAIL_SEQ` is a sequence of EMail addresses in `RECPIENTS` extracted using the generator function `gen_seq_from_csv_string()` from A1-Q3.\n",
    "5. Apply a `flatMap()` transformation to the RDD produced at step 4 to convert each `(FROM, EMAIL_SEQ)` tuple to a sequence of tuples `(FROM, E)` for every Email `E` in `EMAIL_SEQ`. Use the `val_by_vec` lambda from A1-Q4.3.\n",
    "6. Apply a `filter()` tranformation to the result of step 5 to exclude all tuples with an invalid recipient address. Use the `valid_email` lambda from Q1 above.\n",
    "7. Apply another `filter()` transformation to the outcome of step 6 to exclude all tuples having the same sender and recipient Emails. Use the `not_self_loop` lambda from A1-Q4.4.\n",
    "8. Apply a `collect()` action to the RDD produced at step 7, and return the resulting string."
   ]
  },
  {
   "cell_type": "code",
   "execution_count": 10,
   "metadata": {},
   "outputs": [],
   "source": [
    "concat_csv_strings = lambda s1, s2: s1+','+s2\n",
    "\n",
    "val_by_vec = lambda x, t: [(x,a) for a in t]\n",
    "\n",
    "not_self_loop = lambda t: True if t[0] != t[1] else False\n",
    "\n",
    "csv_regex = '^(?:[^\\s,]+,*)*[^\\s,]+$'\n",
    "\n",
    "def gen_seq_from_csv_string(s):\n",
    "    if re.search(csv_regex,s):\n",
    "        yield (x for x in re.split(',',s) if x!='')"
   ]
  },
  {
   "cell_type": "code",
   "execution_count": 17,
   "metadata": {},
   "outputs": [],
   "source": [
    "def proc_headers(lst):\n",
    "    '''\n",
    "    lst: a list of tuples (FROM, TO, CC, BCC) \n",
    "    representing EMail headers\n",
    "    Returns a list of tuples `(E1, E2)` for every Email transmission from `E1` to `E2`\n",
    "    using a series of Spark operations as described in the question.\n",
    "\n",
    "    Replace pass with your code. Use `sc` to reference the Spark context. \n",
    "    '''\n",
    "    \n",
    "    rdd = sc.parallelize(lst)\\\n",
    "    .filter(lambda email : valid_email(email[0]))\\\n",
    "    .map(lambda email : (email[0],concat_csv_strings(email[1],email[2]),email[3]))\\\n",
    "    .map(lambda email : (email[0],concat_csv_strings(email[1],email[2])))\\\n",
    "    .map(lambda email : (email[0],next(gen_seq_from_csv_string(email[1]))))\\\n",
    "    .flatMap(lambda email : val_by_vec(email[0],email[1]))\\\n",
    "    .filter(lambda email : valid_email(email[1]))\\\n",
    "    .filter(lambda email : not_self_loop(email))\\\n",
    "    .collect()\n",
    "    return rdd"
   ]
  },
  {
   "cell_type": "markdown",
   "metadata": {},
   "source": [
    "You can use the following code to test your implementation of `proc_headers()`:"
   ]
  },
  {
   "cell_type": "code",
   "execution_count": 18,
   "metadata": {},
   "outputs": [
    {
     "name": "stdout",
     "output_type": "stream",
     "text": [
      "('bill.cordes@enron.com', 'mike.mcconnell@enron.com')\n",
      "('bill.cordes@enron.com', 'cathy.phillips@enron.com')\n",
      "('bill.cordes@enron.com', 'john.haggerty@enron.com')\n",
      "('bill.cordes@enron.com', 'george.mcclellan@enron.com')\n",
      "('bill.cordes@enron.com', 'tom.kearney@enron.com')\n",
      "('bill.cordes@enron.com', 'tom.kearney@enron.com')\n",
      "('bill.cordes@enron.com', 'cathy.phillips@enron.com')\n",
      "('stuart.staley@enron.com', 'mike.mcconnell@enron.com')\n",
      "('stuart.staley@enron.com', 'bill.cordes@enron.com')\n",
      "('stuart.staley@enron.com', 'tom.kearney@enron.com')\n",
      "('stuart.staley@enron.com', 'george.mcclellan@enron.com')\n"
     ]
    }
   ],
   "source": [
    "header1 = ('bill.cordes@enron.com', \n",
    "           'mike.mcconnell@enron.com,cathy.phillips@enron.com,john.haggerty@enron.com',\n",
    "           'george.mcclellan@enron.com,tom.kearney@enron.com',\n",
    "           'tom.kearney@enron.com,cathy.phillips@enron.com'\n",
    "          )\n",
    "header2 = ('mike.mcconnell@enron..com', \n",
    "           'bill.cordes@enron.com,tom.kearney@enro@n.com,cathy.phillips@enron.com,john.haggerty@enron.com',\n",
    "           'george.mcclellan@enron.com',\n",
    "           'mike.mcconnell@enron.com'\n",
    "          )\n",
    "header3 = ('stuart.staley@enron.com',\n",
    "           'mike.mcconnell@enron.com,jeffrey.shankman@enron..com',\n",
    "           'bill.cordes@enron.com,tom.kearney@enron.com,cathy.phillips@en@ron.com',\n",
    "           'george.mcclellan@enron.com,stuart.staley@enron.com'\n",
    "          )\n",
    "print('\\n'.join(str(t) for t in proc_headers([header1, header2, header3])))\n",
    "\n",
    "#'''\n",
    "#The output produced by the line above when executed with the model implementation\n",
    "#of proc_headers() was as follows:\n",
    "\n",
    "#('bill.cordes@enron.com', 'mike.mcconnell@enron.com')\n",
    "#('bill.cordes@enron.com', 'cathy.phillips@enron.com')\n",
    "#('bill.cordes@enron.com', 'john.haggerty@enron.com')\n",
    "#('bill.cordes@enron.com', 'george.mcclellan@enron.com')\n",
    "#('bill.cordes@enron.com', 'tom.kearney@enron.com')\n",
    "#('bill.cordes@enron.com', 'tom.kearney@enron.com')\n",
    "#('bill.cordes@enron.com', 'cathy.phillips@enron.com')\n",
    "#('stuart.staley@enron.com', 'mike.mcconnell@enron.com')\n",
    "#('stuart.staley@enron.com', 'bill.cordes@enron.com')\n",
    "#('stuart.staley@enron.com', 'tom.kearney@enron.com')\n",
    "#('stuart.staley@enron.com', 'george.mcclellan@enron.com')\n",
    "#'''"
   ]
  },
  {
   "cell_type": "markdown",
   "metadata": {},
   "source": [
    "## 3: Spark\n",
    "Write a function `proc_headers(lst, N)` that applies further transformations to the dataset\n",
    "returned by the `proc_headers(lst)` function from Question 2 to identify `N` Email\n",
    "addresses, which are _most popular_ in terms of the number of Emails that where sent to them. <p>\n",
    "The output must be a list of `N` tuples `(n, E)` where `n` is the number of Email transmissions having `E` as their recipient address. The list must be sorted in the _descending_ lexicographical order, that is, `(n1, E1) > (n2, E2)` if and only if  either `n1 > n2` or `n1 == n2` and `E1 > E2`.<p>\n",
    "_Hint_: Use a `map`/`reduceByKey` pattern as in the word count example to pair Email addresses with their popularity counts, the `sortBy` transformation to sort them in the descending lexicographical order, and the `take()` action to extract the top-N records.\n",
    "<p>\n",
    "\n",
    "Note that calling `proc_headers()` first is only needed to prevent any errors \n",
    "in the implementation of Question 2 from propagating to the solution of this \n",
    "question as this way, we will be able to use the model implementation \n",
    "of `proc_headers()` for testing.\n",
    "A more efficient solution would avoid materializing the results\n",
    "of `proc_headers()` in the driver, and instead directly extend the processing \n",
    "steps of Question 2 with further operations. Make sure you understand why \n",
    "it is important!"
   ]
  },
  {
   "cell_type": "code",
   "execution_count": 19,
   "metadata": {},
   "outputs": [],
   "source": [
    "def get_top_emails(lst, N):\n",
    "    '''\n",
    "    lst: a list of tuples (FROM, TO, CC, BCC) \n",
    "    representing EMail headers\n",
    "    N: a positive integer\n",
    "    Returns a list of N tuples `(n, E)` sorted in the descending lexicographical order\n",
    "    representing the top N most popular EMail destinations as described in the \n",
    "    question.\n",
    "    '''\n",
    "    rdd = sc.parallelize(proc_headers(lst))\n",
    "    top_email = rdd.map(lambda x : (x[1],1)).reduceByKey(lambda x,y : x+y).sortBy(lambda x: (x[1],x[0]),False).map(lambda x : (x[1],x[0])).take(N)\n",
    "    return top_email"
   ]
  },
  {
   "cell_type": "markdown",
   "metadata": {},
   "source": [
    "You can use the following code to test your impementation of `get_top_emails()`:"
   ]
  },
  {
   "cell_type": "code",
   "execution_count": 20,
   "metadata": {},
   "outputs": [
    {
     "name": "stdout",
     "output_type": "stream",
     "text": [
      "(3, 'tom.kearney@enron.com')\n",
      "(2, 'mike.mcconnell@enron.com')\n",
      "(2, 'george.mcclellan@enron.com')\n"
     ]
    }
   ],
   "source": [
    "print('\\n'.join(str(t) for t in get_top_emails([header1, header2, header3], 3)))\n",
    "#'''\n",
    "#The output produced by the line above when executed with the model implementation\n",
    "#of get_top_emails() was as follows:\n",
    "\n",
    "#(3, 'tom.kearney@enron.com')\n",
    "#(2, 'mike.mcconnell@enron.com')\n",
    "#(2, 'george.mcclellan@enron.com')\n",
    "#'''"
   ]
  }
 ],
 "metadata": {
  "kernelspec": {
   "display_name": "Python 3",
   "language": "python",
   "name": "python3"
  },
  "language_info": {
   "codemirror_mode": {
    "name": "ipython",
    "version": 3
   },
   "file_extension": ".py",
   "mimetype": "text/x-python",
   "name": "python",
   "nbconvert_exporter": "python",
   "pygments_lexer": "ipython3",
   "version": "3.7.6"
  },
  "name": "1920-CS5234-A2",
  "notebookId": 3099138014320124
 },
 "nbformat": 4,
 "nbformat_minor": 1
}
