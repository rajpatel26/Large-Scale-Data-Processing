{
 "cells": [
  {
   "cell_type": "markdown",
   "metadata": {},
   "source": [
    "**Goals**: In this assignment you will be practising basic tools and creating \n",
    "building blocks that will be useful in your final projects. This assignment\n",
    "covers the material taught in the first four weeks, such as\n",
    "regular expressions, basics of text processing, and functional programming concepts. \n",
    "Your solutions for this assignment will help in Assignment 2 for solving two data processing \n",
    "problems on the Spark platform."
   ]
  },
  {
   "cell_type": "markdown",
   "metadata": {},
   "source": [
    "## 1: Regular Expressions\n",
    "Write a regular expression pattern matching a _valid URL_. For the purposes of this exercise, a valid URL is any string of the form `protocol://domain/optional_file_path/optional_file_name`, where\n",
    "\n",
    "   * `protocol` is one of `file`, `http`, `https`, or `ftp`.\n",
    "   * `domain` is a sequence of labels separated by a single `.` (dot) character where each label is a combination of alphanumeric (i.e., both letters and numbers) characters in either lower or upper case, and the rightmost label representing the top-level domain is not all numbers.\n",
    "   * `optional_file_path` is a (potentially empty) sequence of labels separated by a `/` (forward slash) character, where each label is a combination of alphanumeric characters in either lower or upper case, and hyphens (`-`).\n",
    "   * `optional_file_name` is a sequence of labels (of length at most 2) separated by a `.` (dot) character, where each label is a combination of alphanumeric characters in either lower or upper case and hyphens (`-`).\n",
    "\n",
    "For example all of the following strings are valid URLs: https://my.Domain.com/some/file.html, ftp://com/my-file.json, http://123.456.12a/, http://bigdata and http://cs5234.rhul.ac.uk/sub-dir/ , whereas http://234.345, http://rhul.ac.uk/my.long.filename.html, http://.bigdata/, and http://big..data are not."
   ]
  },
  {
   "cell_type": "code",
   "execution_count": 391,
   "metadata": {},
   "outputs": [],
   "source": [
    "import re\n",
    "\n",
    "# Put your pattern inside ''\n",
    "url_regex = '(?:http|https|ftp|file):\\/\\/((?:[a-zA-Z0-9]+\\.?)*(\\d*[a-zA-Z]{1,}\\d*))+\\/?(?:[a-zA-Z0-9-]+\\/)*(?:[a-zA-Z0-9-]+\\.[a-zA-Z0-9]+)?'\n"
   ]
  },
  {
   "cell_type": "markdown",
   "metadata": {},
   "source": [
    "Your solution is correct if the value returned by `re.compile(url_regex).fullmatch(s)` is not\n",
    "`None` for every string `s`, which is a valid URL according to \n",
    "the definition above, and `None`, otherwise."
   ]
  },
  {
   "cell_type": "markdown",
   "metadata": {},
   "source": [
    "## 2: Regular Expressions\n",
    "Write a regular expression pattern matching any string consisting of _fields_ separated by _commas_. A field may include any printable characters except whitespaces and commas. \n",
    "A valid string must start and end with a field. \n",
    "For example, the strings `'ab1c,de_f,xyz'`, `'ab1c,de_%^f,xyz'`, `abc` \n",
    "are  valid whereas the strings `'ab1c,, de_f'` and \n",
    "`'ab1c,de_f, xyz,'` are not."
   ]
  },
  {
   "cell_type": "code",
   "execution_count": 249,
   "metadata": {},
   "outputs": [],
   "source": [
    "# Put your pattern inside ''\n",
    "csv_regex = '^(?:[^\\s,]+,*)*[^\\s,]+$'"
   ]
  },
  {
   "cell_type": "markdown",
   "metadata": {},
   "source": [
    "Your solution is correct if the value returned by `re.compile(csv_regex).fullmatch(s)` is not\n",
    "`None` for every string `s`, which is valid according to \n",
    "the definition above, and `None`, otherwise."
   ]
  },
  {
   "cell_type": "markdown",
   "metadata": {},
   "source": [
    "## 3: Generator Functions\n",
    "Write a generator function `gen_seq_from_csv_string(s)` that takes a string `s` matching the regular expression pattern described by `csv_regex` as argument and produces a sequence of values extracted from `s`. For example, `gen_seq_from_csv_string('ab1c,de_f,xyz')` will return the sequence \n",
    "`'ab1c'`, `'de_f'`, `'xyz'`"
   ]
  },
  {
   "cell_type": "code",
   "execution_count": 250,
   "metadata": {},
   "outputs": [],
   "source": [
    "'''\n",
    "s: a string matching the pattern stored in csv_regex\n",
    "Returns a sequence of values extracted from s. \n",
    "\n",
    "Replace pass with your code\n",
    "'''\n",
    "def gen_seq_from_csv_string(s):\n",
    "    s1 = (re.search(csv_regex,s)).group()\n",
    "    match = [x for x in re.split(',',s1) if x!='']\n",
    "    yield match"
   ]
  },
  {
   "cell_type": "markdown",
   "metadata": {},
   "source": [
    "## 4: Lambda Expressions\n",
    "Write the following lambda expressions:\n",
    "1. `valid_url`: takes a string `s` as argument and returns `True` if `s` \n",
    "matches `url_regex`, and `False`, otherwise\n",
    "2. `concat_csv_strings`: takes two strings `s1` and `s2` as arguments and \n",
    "returns a single string consisting of `s1` and `s2` separated by comma. For example, if\n",
    "the strings\n",
    "`'ab1c,de_f,xyz'` and `'ab1c,de_%^f,xyz'` are given as arguments, the output must be the string\n",
    "`'ab1c,de_f,xyz,ab1c,de_%^f,xyz'`\n",
    "3. `val_by_vec`: takes an object `x` and a sequence of objects `seq`, and returns a sequence\n",
    "(i.e., an iterator) of tuples `(x, t[0]), (x, t[1]), ...`.<br>\n",
    "_Hint_: Use a generator expression.\n",
    "4. `not_self_loop`: takes a 2-tuple `(a, b)` and returns `True` if `a != b` and `False`, otherwise."
   ]
  },
  {
   "cell_type": "code",
   "execution_count": 251,
   "metadata": {},
   "outputs": [],
   "source": [
    "# Replace the right-hand side of each lambda with your code\n",
    "valid_url = lambda s: True if re.match(url_regex,s) else False\n",
    "\n",
    "concat_csv_strings = lambda s1, s2: s1+','+s2\n",
    "\n",
    "val_by_vec = lambda x, t: [(x,a) for a in t]\n",
    "\n",
    "not_self_loop = lambda t: True if t[0] != t[1] else False"
   ]
  }
 ],
 "metadata": {
  "kernelspec": {
   "display_name": "Python 3",
   "language": "python",
   "name": "python3"
  },
  "language_info": {
   "codemirror_mode": {
    "name": "ipython",
    "version": 3
   },
   "file_extension": ".py",
   "mimetype": "text/x-python",
   "name": "python",
   "nbconvert_exporter": "python",
   "pygments_lexer": "ipython3",
   "version": "3.7.6"
  }
 },
 "nbformat": 4,
 "nbformat_minor": 2
}
